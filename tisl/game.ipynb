{
 "cells": [
  {
   "cell_type": "markdown",
   "metadata": {},
   "source": [
    "# Tiny Islands\n",
    "Below is the basic game logic for 'Tiny Islands'. Our objective is to code an interactable and updateable game state adhering to the rules of 'Tiny Island' that we can later use to for both the visualization of the game interface as well as the application of reinforcement learning models.\n",
    "\n",
    "The game state should keep track of:\n",
    "1. The number of points currently represented on the board\n",
    "2. The number of moves already played / whether or not the game has finished\n",
    "3. The position of unoccupied tiles on the board \n",
    "\n",
    "The game state should take in:\n",
    "1. The type of terrain supplied\n",
    "2. The X and Y coordinates of the tile"
   ]
  },
  {
   "cell_type": "markdown",
   "metadata": {},
   "source": [
    "## Board Rules"
   ]
  },
  {
   "cell_type": "markdown",
   "metadata": {},
   "source": [
    "The board is consisted of tiles, each of which can be occupied with at most one terrain. Each terrain may interact with each other (same or different depending on unique attributes) on the board, generating and/or deducting the total number of points."
   ]
  },
  {
   "cell_type": "markdown",
   "metadata": {},
   "source": [
    "### (Bonus Rules) These types of terrain are, respectively:"
   ]
  },
  {
   "cell_type": "markdown",
   "metadata": {},
   "source": [
    "1. BOATS: **1pt** for each square seperating them from the nearest **BOAT** or **ISLAND**\n",
    "   \n",
    "2. WAVES: **2pt** for each **WAVE** that isn't the same row or column as another **WAVE**\n",
    "   \n",
    "3. BEACH: **1pt** for each **BEACH** that is touching(4) an island, but not on the island\n",
    "   \n",
    "4. HOUSES: **1pt** for each unique terrain that is nearby(8) but not a **HOUSE**\n",
    "   \n",
    "5. CHURCHES: \n",
    "   - **2pt** for each **HOUSE** nearby\n",
    "   - **1pt** for each **HOUSE** on the same island\n",
    "   - **0pt** all together if there's 2 or more **CHURCHES** on the same **ISLAND**\n",
    "  \n",
    "6. FOREST: **2pt** for each **FOREST** in a group (touching(4)) in total, minus **2pt** (once for each group)\n",
    "   \n",
    "7. MOUNTAIN: **2pt** for each **FOREST** nearby(8)"
   ]
  },
  {
   "cell_type": "markdown",
   "metadata": {},
   "source": [
    "### (Island Rules) But hold up! What are **ISLANDS**?"
   ]
  },
  {
   "cell_type": "markdown",
   "metadata": {},
   "source": [
    "- The game has a total of 30 turns, After **Turn 30**, the board evaluation is the final score\n",
    "- On each 10th turn (**Turn 10** **Turn 20** & **Turn 30**) instead of inserting terrain as listed above, the player must \"draw\" an **ISLAND**\n",
    "- **ISLANDS** are drawn between tiles, on their borders/sides(4), Each tile border has **Length 1**\n",
    "- **ISLANDS** must be enclosed. All enclosed tiles are part of an **ISLAND**\n",
    "- The player is given a maximum of **Length 24** to draw an **ISLAND**\n",
    "\n",
    "*RECURSIVE ISLAND: It is possible for an **ISLAND** to have a 'hole' in it. In the case where one **ISLAND** encloses another, the inner '**ISLAND**' is not considered an **ISLAND**."
   ]
  },
  {
   "cell_type": "markdown",
   "metadata": {},
   "source": [
    "### (Penalty Rules) The introduction of **ISLANDS** bring more rules to the game:"
   ]
  },
  {
   "cell_type": "markdown",
   "metadata": {},
   "source": [
    "1. BOATS: **-5pt** and **INACTIVE** for each **BOAT** that's also part of an **ISLAND** \n",
    "   \n",
    "2. WAVES: \n",
    "   - **-5pt** and **INACTIVE** for each **WAVE** that's also part of an **ISLAND**\n",
    " - [**VERY IMPORTANT**] **0pt** for each **WAVE** that's touching(4) an **ISLAND**\n",
    "\n",
    "3. BEACH: \n",
    "   - **-5pt** and **INACTIVE** for each **BEACH** that's also part of an **ISLAND**\n",
    "   - [**VERY IMPORTANT**] **0pt** for each **BEACH** that's not touching(4) an **ISLAND**\n",
    "   \n",
    "4. HOUSES: **-5pt** and **INACTIVE** for each **HOUSE** that's not part of an **ISLAND**\n",
    "   \n",
    "5. CHURCHES: **-5pt** and **INACTIVE** for each **CHURCH** that's not part of an **ISLAND**\n",
    "  \n",
    "6. FOREST: **-5pt** and **INACTIVE** for each **FOREST** that's not part of an **ISLAND**\n",
    "   \n",
    "7. MOUNTAIN: **-5pt** and **INACTIVE** for each **MOUNTAIN** that's not part of an **ISLAND**"
   ]
  },
  {
   "cell_type": "markdown",
   "metadata": {},
   "source": [
    "### Evaluation Order:"
   ]
  },
  {
   "cell_type": "markdown",
   "metadata": {},
   "source": [
    "1. Check and Set Inactive\n",
    "* Offshore Beaches though **ACTIVE**, do not interact with other terrain. It is important to keep its **ACTIVE** status since:\n",
    "  - All Inactive terrain are penalized\n",
    "  - All Inactive terrain are dimmed on display \n",
    "2. Evaluate Terrain based on Board Interactions 1-7\n",
    "3. Check and Deduct Penalties"
   ]
  },
  {
   "cell_type": "markdown",
   "metadata": {},
   "source": [
    "## Objects and Data Structures"
   ]
  },
  {
   "cell_type": "markdown",
   "metadata": {},
   "source": [
    "With the board rules all laid out, we then move onto designing and structuring the game code. This is a crucial step, since training machine learning models are especially computationally intensive. Other than simplicity and speed, I also worry about whether reinforcement learning can be effectively applied here. \n",
    "\n",
    "At this early stage in the project I probably shouldn't think too far ahead, but I'd like list my concerns here for future reference. When considering traditional projects, I find the most plausible objective to be deciding the optimal position for any terrain at every step in the game. However, when we play the game we are choosing from 2 random terrain types each assigned to a random column/row on the board. In this case, it might be useful to generate a value map for each step and then comparing the highest value for each choice.\n",
    "\n",
    "Q: Should we bind the \"1 out of 2 terrain+row/column\" choice with the choice of the specific tile later on?\n",
    "A: Yes, since we're only trying to optimize the final score at the very end.\n",
    "\n",
    "A major issue is how to combine the entirely different \"island drawing\" step into this traditional model. From a macro point of view, \"island drawing\" is basically choosing from a list of tiles that fit the \"Length 24 or smaller\" requirement. We can train the model based on this variable, but how would it reflect its interaction with \"terrain fitting\"? Terrain such as \"Boats\" and \"Beach\" demand strict \"island planning\" for it to take effect. Through experience, \"Boats\" are a wild card that can sometimes rack up huge amounts of points while \"Beach\" is a \"versa-tile\" (see what i did there) that can easily slide into any \"build\". Training the models seperately will overlook all of these strategies. Moreover, there are only 3 instances of island drawing in an entire game, meaning that model training might not be very effective, leave alone optimal. \n",
    "\n",
    "Reflecting upon these thoughts, here's a list of points of concern for future reference:\n",
    "- Must check if turn options are randomly generately with uniform distribution. If yes, we can omit the \"double choice split\" mentioned in the above Q&A.\n",
    "- Must find a way to incorporate the two turn types into one model"
   ]
  },
  {
   "cell_type": "markdown",
   "metadata": {},
   "source": [
    "With all that said, lets get to code design. For the board, we need tiles. Tiles should have a X and Y coordinate to represent position, which is useful for determining possible insertion tiles and evaluating tile interactions. It must also store both the terrain type and ideally if its on an island, next to one, or offshore. Both must be integers for computational reasons. We also need to store the overall steps and points in the board object (as integers) for recording purposes.\n",
    "\n",
    "Related functions involve inserting new tiles, returning unoccupied tiles and evaluating the board to update the score/points system."
   ]
  },
  {
   "cell_type": "code",
   "execution_count": 5,
   "metadata": {},
   "outputs": [],
   "source": [
    "# type:                 loc:                st:\n",
    "# 0: Unoccupied         -1: Shore           0: Inactive\n",
    "# 1: Boasts             0: Ocean            1: Active\n",
    "# 2: Waves              1: Island 1\n",
    "# 3: Beach              2: Island 2\n",
    "# 4: Houses             3: Island 3\n",
    "# 5: Churches\n",
    "# 6: Forest\n",
    "# 7: Mountains\n",
    "\n",
    "class Tile:\n",
    "    def __init__(self, type, loc, st):\n",
    "        self.type = type\n",
    "        self.loc = loc\n",
    "        self.st = st"
   ]
  },
  {
   "cell_type": "code",
   "execution_count": 6,
   "metadata": {},
   "outputs": [],
   "source": [
    "class Board:\n",
    "    def __init__(self):\n",
    "        # Initialize Score\n",
    "        self.score = 0\n",
    "        # Initialize Tiles List\n",
    "        self.tiles = []\n",
    "        # Initialize Tiles Values\n",
    "        for y in range(0,9):\n",
    "            row = []\n",
    "            for x in range(0,9):\n",
    "                row.append(Tile(0,0,0))\n",
    "            self.tiles.append(row)\n",
    "    \n",
    "    # Set Floor of 0 for Total Score\n",
    "    def scrflr(self):\n",
    "        if self.score < 0:\n",
    "            self.score = 0\n",
    "    \n",
    "    # Return List of Tuple XY for Unoccupied Tiles\n",
    "    def unoc(self):\n",
    "        # Initialize List\n",
    "        unoc = []\n",
    "        # Search For Unoccupied Tiles\n",
    "        rownum = 0\n",
    "        for row in self.tiles:\n",
    "            colnum = 0\n",
    "            for tile in row:\n",
    "                if tile.type == 0:\n",
    "                    unoc.append((colnum, rownum))\n",
    "                colnum += 1\n",
    "            rownum += 1\n",
    "        return unoc\n",
    "    \n",
    "    # Insert New Tile\n",
    "    def insr(self, x, y, type):\n",
    "        # Locate Tile Position\n",
    "        tile = self.tiles[y][x]\n",
    "        # Update Tile Type\n",
    "        tile.type = type\n",
    "        # Activate Terrain Status, Await Evaluation\n",
    "        tile.st = 1\n",
    "    \n",
    "    # Evaluate board\n",
    "    def eval(self):\n",
    "        for row in self.tiles:\n",
    "            for tile in row:\n",
    "                if tile.st == 1:\n",
    "                    self.pen(tile)\n",
    "        self.bonus()\n",
    "    \n",
    "    # Evaluate Penalty\n",
    "    def pen(self, t):\n",
    "        if t.type in range(1,4):\n",
    "            if t.loc in range(1,4):\n",
    "                t.st = 0\n",
    "                self.score -= 5\n",
    "        elif t.type in range(4,8):\n",
    "            if t.loc not in range(1,4):\n",
    "                t.st = 0\n",
    "                self.score -= 5\n",
    "        self.scrflr()\n",
    "    \n",
    "    def bonus(self):\n",
    "        shps = []\n",
    "        isls = []\n",
    "        wvs = []\n",
    "        hses = []\n",
    "        chrhs = []\n",
    "        grps = []\n",
    "        frst = []\n",
    "        mtns = []\n",
    "        rownum = 0\n",
    "\n",
    "        for row in self.tiles:\n",
    "            colnum = 0\n",
    "            for tile in row:\n",
    "                if tile.type == 1 and tile.st == 1:\n",
    "                    shps.append((colnum,rownum))\n",
    "                if tile.loc in [1,2,3]:\n",
    "                    isls.append((colnum,rownum))\n",
    "                if tile.type == 2 and tile.st == 1 and tile.loc == 0:\n",
    "                    wvs.append((colnum,rownum))\n",
    "                if tile.type == 3 and tile.st == 1 and tile.loc == -1:\n",
    "                    self.score += 1\n",
    "                if tile.type == 4 and tile.st == 1:\n",
    "                    hses.append((colnum,rownum))\n",
    "                if tile.type == 5 and tile.st == 1:\n",
    "                    chrhs.append((colnum,rownum))\n",
    "                if tile.type == 6 and tile.st == 1:\n",
    "                    frst.append((colnum,rownum))\n",
    "                if tile.type == 7 and tile.st == 1:\n",
    "                    mtns.append(tile)\n",
    "                colnum += 1\n",
    "            rownum += 1\n",
    "        \n",
    "        for s in shps:\n",
    "            targs = shps + isls\n",
    "            targs.remove(s)\n",
    "            if targs:\n",
    "                dlist = []\n",
    "                for tar in targs:\n",
    "                    dist = abs(tar[0] - s[0]) + abs(tar[1] - s[1])\n",
    "                    dlist.append(dist)\n",
    "                self.score += min(dlist)\n",
    "        \n",
    "        for w in wvs:\n",
    "            targs = wvs\n",
    "            targs.remove(w)\n",
    "            bonus = 2\n",
    "            for tar in targs:\n",
    "                if w[0] == tar[0] or w[1] == tar[1]:\n",
    "                    bonus = 0\n",
    "                    break\n",
    "            self.score += bonus\n",
    "        \n",
    "        for h in hses:\n",
    "            unique = []\n",
    "            for ytry in range(-1,2):\n",
    "                for xtry in range(-1,2):\n",
    "                    if xtry != 0 and ytry != 0:\n",
    "                        xnear = h[0] + xtry\n",
    "                        ynear = h[1] + ytry\n",
    "                        if xnear <= 8 and ynear <= 8:\n",
    "                            targ = self.tiles[ynear][xnear]\n",
    "                            if targ.type not in (0,4) and targ.type not in unique:\n",
    "                                unique.append(targ.type)\n",
    "            self.score += len(unique)\n",
    "\n",
    "        for c in chrhs:\n",
    "            crusade = False\n",
    "            inf = chrhs\n",
    "            inf.remove(c)\n",
    "            # Check for Crusade\n",
    "            for i in inf:\n",
    "                if c.loc == i.loc:\n",
    "                    crusade = True\n",
    "            if not crusade:\n",
    "                nrow = 0\n",
    "                for row in self.tiles:\n",
    "                    ncol = 0\n",
    "                    for targ in row:\n",
    "                        if targ.type == 4 and c.loc == targ.loc:\n",
    "                            self.score += 1\n",
    "                            for ytry in range(-1,2):\n",
    "                                for xtry in range(-1,2):\n",
    "                                    if xtry != 0 and ytry != 0:\n",
    "                                        xnear = c[0] + xtry\n",
    "                                        ynear = c[1] + ytry\n",
    "                                        if targ[0] == xnear and targ[1] == ynear:\n",
    "                                            self.score += 1\n",
    "                        ncol += 1\n",
    "                    nrow += 1\n",
    "        \n",
    "        for f in frst:\n",
    "            for i in (-1, 1):\n",
    "                for grp in grps:\n",
    "                    for targ in grp:\n",
    "                        if (f[0] + i == targ[0] or f[0]== targ[0]) and (f[1] == targ[1] or f[1] + i == targ[1]):\n",
    "                            grp.append(f)\n",
    "                            registered = True\n",
    "                            break\n",
    "                if registered == True:\n",
    "                    break\n",
    "            if not registered:\n",
    "                newgrp = []\n",
    "                newgrp.append(f)\n",
    "                grps.append(newgrp)\n",
    "        for grp in grps:\n",
    "            self.score += len(grp) * 2 - 2\n",
    "\n",
    "        for m in mtns:\n",
    "            for ytry in range(-1,2):\n",
    "                for xtry in range(-1,2):\n",
    "                    if xtry != 0 and ytry != 0:\n",
    "                        xnear = m[0] + xtry\n",
    "                        ynear = m[1] + ytry\n",
    "                        if xnear <= 8 and ynear <= 8:\n",
    "                            targ = self.tiles[ynear][xnear]\n",
    "                            if targ[0] == m[0] + xtry and targ[1] == m[1] + ytry:\n",
    "                                if targ.type == 5:\n",
    "                                    self.score += 2"
   ]
  },
  {
   "cell_type": "code",
   "execution_count": 13,
   "metadata": {},
   "outputs": [],
   "source": [
    "from tkinter import *\n",
    "\n",
    "main_window = Tk()\n",
    "b = Board()\n",
    "# Labels\n",
    "rownum = 0\n",
    "for row in b.tiles:\n",
    "    colnum = 0\n",
    "    for tile in row:\n",
    "        Label(main_window, text=0).grid(row=rownum, column=colnum)\n",
    "        colnum += 1\n",
    "    rownum += 1\n",
    "\n",
    "Label(main_window, text=0).grid(row=rownum, column=colnum)\n",
    "\n",
    "main_window.mainloop()"
   ]
  },
  {
   "cell_type": "markdown",
   "metadata": {},
   "source": [
    "### Testing"
   ]
  },
  {
   "cell_type": "code",
   "execution_count": 9,
   "metadata": {},
   "outputs": [
    {
     "name": "stdout",
     "output_type": "stream",
     "text": [
      "0\n",
      "0\n",
      "28\n"
     ]
    }
   ],
   "source": [
    "b = Board()\n",
    "print(b.score)\n",
    "b.insr(7,7,1)\n",
    "b.eval()\n",
    "print(b.score)\n",
    "b.insr(0,0,1)\n",
    "b.eval()\n",
    "print(b.score)"
   ]
  }
 ],
 "metadata": {
  "interpreter": {
   "hash": "31f2aee4e71d21fbe5cf8b01ff0e069b9275f58929596ceb00d14d90e3e16cd6"
  },
  "kernelspec": {
   "display_name": "Python 3.8.9 64-bit",
   "language": "python",
   "name": "python3"
  },
  "language_info": {
   "codemirror_mode": {
    "name": "ipython",
    "version": 3
   },
   "file_extension": ".py",
   "mimetype": "text/x-python",
   "name": "python",
   "nbconvert_exporter": "python",
   "pygments_lexer": "ipython3",
   "version": "3.8.9"
  },
  "orig_nbformat": 4
 },
 "nbformat": 4,
 "nbformat_minor": 2
}
